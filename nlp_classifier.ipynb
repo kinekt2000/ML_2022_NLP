{
 "cells": [
  {
   "cell_type": "code",
   "execution_count": 181,
   "metadata": {},
   "outputs": [
    {
     "name": "stdout",
     "output_type": "stream",
     "text": [
      "10000\n"
     ]
    },
    {
     "data": {
      "text/html": [
       "<div>\n",
       "<style scoped>\n",
       "    .dataframe tbody tr th:only-of-type {\n",
       "        vertical-align: middle;\n",
       "    }\n",
       "\n",
       "    .dataframe tbody tr th {\n",
       "        vertical-align: top;\n",
       "    }\n",
       "\n",
       "    .dataframe thead th {\n",
       "        text-align: right;\n",
       "    }\n",
       "</style>\n",
       "<table border=\"1\" class=\"dataframe\">\n",
       "  <thead>\n",
       "    <tr style=\"text-align: right;\">\n",
       "      <th></th>\n",
       "      <th>text</th>\n",
       "      <th>label</th>\n",
       "    </tr>\n",
       "  </thead>\n",
       "  <tbody>\n",
       "    <tr>\n",
       "      <th>0</th>\n",
       "      <td>I always wrote this series off as being a comp...</td>\n",
       "      <td>0</td>\n",
       "    </tr>\n",
       "    <tr>\n",
       "      <th>1</th>\n",
       "      <td>1st watched 12/7/2002 - 3 out of 10(Dir-Steve ...</td>\n",
       "      <td>0</td>\n",
       "    </tr>\n",
       "    <tr>\n",
       "      <th>2</th>\n",
       "      <td>This movie was so poorly written and directed ...</td>\n",
       "      <td>0</td>\n",
       "    </tr>\n",
       "    <tr>\n",
       "      <th>3</th>\n",
       "      <td>The most interesting thing about Miryang (Secr...</td>\n",
       "      <td>1</td>\n",
       "    </tr>\n",
       "    <tr>\n",
       "      <th>4</th>\n",
       "      <td>when i first read about \"berlin am meer\" i did...</td>\n",
       "      <td>0</td>\n",
       "    </tr>\n",
       "    <tr>\n",
       "      <th>5</th>\n",
       "      <td>I saw this film on September 1st, 2005 in Indi...</td>\n",
       "      <td>1</td>\n",
       "    </tr>\n",
       "    <tr>\n",
       "      <th>6</th>\n",
       "      <td>I saw a screening of this movie last night. I ...</td>\n",
       "      <td>0</td>\n",
       "    </tr>\n",
       "    <tr>\n",
       "      <th>7</th>\n",
       "      <td>William Hurt may not be an American matinee id...</td>\n",
       "      <td>1</td>\n",
       "    </tr>\n",
       "    <tr>\n",
       "      <th>8</th>\n",
       "      <td>IT IS A PIECE OF CRAP! not funny at all. durin...</td>\n",
       "      <td>0</td>\n",
       "    </tr>\n",
       "    <tr>\n",
       "      <th>9</th>\n",
       "      <td>I'M BOUT IT(1997)&lt;br /&gt;&lt;br /&gt;Developed &amp; publi...</td>\n",
       "      <td>0</td>\n",
       "    </tr>\n",
       "  </tbody>\n",
       "</table>\n",
       "</div>"
      ],
      "text/plain": [
       "                                                text  label\n",
       "0  I always wrote this series off as being a comp...      0\n",
       "1  1st watched 12/7/2002 - 3 out of 10(Dir-Steve ...      0\n",
       "2  This movie was so poorly written and directed ...      0\n",
       "3  The most interesting thing about Miryang (Secr...      1\n",
       "4  when i first read about \"berlin am meer\" i did...      0\n",
       "5  I saw this film on September 1st, 2005 in Indi...      1\n",
       "6  I saw a screening of this movie last night. I ...      0\n",
       "7  William Hurt may not be an American matinee id...      1\n",
       "8  IT IS A PIECE OF CRAP! not funny at all. durin...      0\n",
       "9  I'M BOUT IT(1997)<br /><br />Developed & publi...      0"
      ]
     },
     "execution_count": 181,
     "metadata": {},
     "output_type": "execute_result"
    }
   ],
   "source": [
    "import pandas as pd\n",
    "import numpy as np\n",
    "\n",
    "text_field = \"text\"\n",
    "label_field = \"label\"\n",
    "data_frame_name = \"IMDB_reviews.csv\"\n",
    "\n",
    "df = pd.read_csv(data_frame_name)\n",
    "print(df.size)\n",
    "df.head(10)"
   ]
  },
  {
   "cell_type": "code",
   "execution_count": 182,
   "metadata": {},
   "outputs": [
    {
     "data": {
      "image/png": "[encoded data removed]",
      "text/plain": [
       "<Figure size 500x500 with 1 Axes>"
      ]
     },
     "metadata": {},
     "output_type": "display_data"
    }
   ],
   "source": [
    "import matplotlib.pyplot as plt\n",
    "\n",
    "fig = plt.figure(figsize=(5,5))\n",
    "colors = [\"skyblue\", \"pink\"]\n",
    "positive = df[df[label_field]==1]\n",
    "negative = df[df[label_field]==0]\n",
    "\n",
    "counts = [positive[label_field].count(), negative[label_field].count()]\n",
    "\n",
    "legpie = plt.pie(\n",
    "    counts,\n",
    "    labels=[\"positive\", \"negative\"],\n",
    "    autopct=\"%1.1f%%\",\n",
    "    shadow=True,\n",
    "    colors=colors,\n",
    "    startangle=45,\n",
    "    explode=(0, 0.1)\n",
    ")\n"
   ]
  },
  {
   "cell_type": "code",
   "execution_count": 183,
   "metadata": {},
   "outputs": [
    {
     "name": "stdout",
     "output_type": "stream",
     "text": [
      "                                                text  label\n",
      "0  i always wrote this series off as being a comp...      0\n",
      "1  1st watched datevalue   3 out of 10 dir steve ...      0\n",
      "2  this movie was so poorly written and directed ...      0\n",
      "3  the most interesting thing about miryang  secr...      1\n",
      "4  when i first read about  berlin am meer  i did...      0\n",
      "5  i saw this film on september 1st  datevalue in...      1\n",
      "6  i saw a screening of this movie last night  i ...      0\n",
      "7  william hurt may not be an american matinee id...      1\n",
      "8  it is a piece of crap  not funny at all  durin...      0\n",
      "9  i'm bout it datevalue developed   published by...      0\n"
     ]
    }
   ],
   "source": [
    "import re\n",
    "from emot.emo_unicode import UNICODE_EMOJI, EMOTICONS_EMO\n",
    "\n",
    "clean = True\n",
    "\n",
    "rep_emoji = {re.escape(k): v for k, v in UNICODE_EMOJI.items()}\n",
    "pat_emoji = re.compile('('+'|'.join(rep_emoji.keys()).replace('/', '\\\\/')+')')\n",
    "\n",
    "rep_emoti = {re.escape(k): v for k, v in EMOTICONS_EMO.items()}\n",
    "pat_emoti = re.compile('|'.join(rep_emoti.keys()).replace('/', '\\\\/'))\n",
    "\n",
    "\n",
    "def clean_text(df: pd.DataFrame, text_field, emoji: str=\"replace\", emoticons: str=\"replace\"):\n",
    "    df_c = df.copy()\n",
    "    df_c[text_field] = df_c[text_field].str.replace(r\"<[^>]*>\", \"\", regex=True)\n",
    "    df_c[text_field] = df_c[text_field].str.replace(r\"http\\S+\", \"\", regex=True)\n",
    "    df_c[text_field] = df_c[text_field].str.replace(r\"http\", \"\", regex=True)\n",
    "    df_c[text_field] = df_c[text_field].str.replace(r\"@\\S+\", \"\", regex=True)\n",
    "\n",
    "    # change emoji and emoticons\n",
    "    emoti_replacer = \"\" if emoticons ==  \"remove\" else lambda m: \"(\"+rep_emoti[re.escape(m.group(0))].replace(\" \", \"_\")+\")\"\n",
    "    df_c[text_field] = df_c[text_field].str.replace(pat_emoti, emoti_replacer)\n",
    "\n",
    "    emoji_replacer = \"\" if emoticons ==  \"remove\" else lambda m: \"(\"+rep_emoji[re.escape(m.group(0))]+\")\"\n",
    "    df_c[text_field] = df_c[text_field].str.replace(pat_emoji, emoji_replacer)\n",
    "\n",
    "    # replace dates\n",
    "    df_c[text_field] = df_c[text_field].str.replace(r\"\\d{1,2}[/-]\\d{1,2}[/-]\\d{2,4}\", \"datevalue\", regex=True) # m*d*Y\n",
    "    df_c[text_field] = df_c[text_field].str.replace(r\"(?:Jan|Feb|Mar|Apr|May|Jun|Jul|Aug|Sep|Oct|Nov|Dec)[a-zA-Z.,-]*[\\s-]?(\\d{1,2})?[,\\s-]?[\\s]?\\d{4}\", \"datevalue\", regex=True) # Month*d*Y\n",
    "    df_c[text_field] = df_c[text_field].str.replace(r\"\\d{1,2}[/-]\\d{4}\", \"datevalue\", regex=True) # m*Y\n",
    "    df_c[text_field] = df_c[text_field].str.replace(r\"\\d{4}\", \"datevalue\", regex=True) # Y\n",
    "\n",
    "    # # replace residual non text character\n",
    "    df_c[text_field] = df_c[text_field].str.replace(\"`\", \"\\'\", regex=True)\n",
    "    df_c[text_field] = df_c[text_field].str.replace(r\"[^A-Za-z0-9@\\'\\_]\", \" \", regex=True)\n",
    "    df_c[text_field] = df_c[text_field].str.replace(r\"@\", \"at\", regex=True)\n",
    "    \n",
    "    df_c[text_field] = df_c[text_field].str.lower()\n",
    "\n",
    "    return df_c\n",
    "\n",
    "if clean:\n",
    "    df_clean = clean_text(df, text_field)\n",
    "    df_clean.to_csv(data_frame_name.split(\".\")[0]+\"_clean.csv\", index=False)\n",
    "\n",
    "    print(df_clean.head(10))\n"
   ]
  },
  {
   "cell_type": "code",
   "execution_count": null,
   "metadata": {},
   "outputs": [],
   "source": [
    "UNICODE_EMOJI"
   ]
  },
  {
   "cell_type": "code",
   "execution_count": 184,
   "metadata": {},
   "outputs": [
    {
     "data": {
      "text/html": [
       "<div>\n",
       "<style scoped>\n",
       "    .dataframe tbody tr th:only-of-type {\n",
       "        vertical-align: middle;\n",
       "    }\n",
       "\n",
       "    .dataframe tbody tr th {\n",
       "        vertical-align: top;\n",
       "    }\n",
       "\n",
       "    .dataframe thead th {\n",
       "        text-align: right;\n",
       "    }\n",
       "</style>\n",
       "<table border=\"1\" class=\"dataframe\">\n",
       "  <thead>\n",
       "    <tr style=\"text-align: right;\">\n",
       "      <th></th>\n",
       "      <th>text</th>\n",
       "      <th>label</th>\n",
       "    </tr>\n",
       "  </thead>\n",
       "  <tbody>\n",
       "    <tr>\n",
       "      <th>0</th>\n",
       "      <td>i always wrote this series off as being a comp...</td>\n",
       "      <td>0</td>\n",
       "    </tr>\n",
       "    <tr>\n",
       "      <th>1</th>\n",
       "      <td>1st watched datevalue   3 out of 10 dir steve ...</td>\n",
       "      <td>0</td>\n",
       "    </tr>\n",
       "    <tr>\n",
       "      <th>2</th>\n",
       "      <td>this movie was so poorly written and directed ...</td>\n",
       "      <td>0</td>\n",
       "    </tr>\n",
       "    <tr>\n",
       "      <th>3</th>\n",
       "      <td>the most interesting thing about miryang  secr...</td>\n",
       "      <td>1</td>\n",
       "    </tr>\n",
       "    <tr>\n",
       "      <th>4</th>\n",
       "      <td>when i first read about  berlin am meer  i did...</td>\n",
       "      <td>0</td>\n",
       "    </tr>\n",
       "    <tr>\n",
       "      <th>5</th>\n",
       "      <td>i saw this film on september 1st  datevalue in...</td>\n",
       "      <td>1</td>\n",
       "    </tr>\n",
       "    <tr>\n",
       "      <th>6</th>\n",
       "      <td>i saw a screening of this movie last night  i ...</td>\n",
       "      <td>0</td>\n",
       "    </tr>\n",
       "    <tr>\n",
       "      <th>7</th>\n",
       "      <td>william hurt may not be an american matinee id...</td>\n",
       "      <td>1</td>\n",
       "    </tr>\n",
       "    <tr>\n",
       "      <th>8</th>\n",
       "      <td>it is a piece of crap  not funny at all  durin...</td>\n",
       "      <td>0</td>\n",
       "    </tr>\n",
       "    <tr>\n",
       "      <th>9</th>\n",
       "      <td>i'm bout it datevalue developed   published by...</td>\n",
       "      <td>0</td>\n",
       "    </tr>\n",
       "  </tbody>\n",
       "</table>\n",
       "</div>"
      ],
      "text/plain": [
       "                                                text  label\n",
       "0  i always wrote this series off as being a comp...      0\n",
       "1  1st watched datevalue   3 out of 10 dir steve ...      0\n",
       "2  this movie was so poorly written and directed ...      0\n",
       "3  the most interesting thing about miryang  secr...      1\n",
       "4  when i first read about  berlin am meer  i did...      0\n",
       "5  i saw this film on september 1st  datevalue in...      1\n",
       "6  i saw a screening of this movie last night  i ...      0\n",
       "7  william hurt may not be an american matinee id...      1\n",
       "8  it is a piece of crap  not funny at all  durin...      0\n",
       "9  i'm bout it datevalue developed   published by...      0"
      ]
     },
     "execution_count": 184,
     "metadata": {},
     "output_type": "execute_result"
    }
   ],
   "source": [
    "clean_df = pd.read_csv(data_frame_name.split(\".\")[0]+\"_clean.csv\")\n",
    "clean_df.head(10)"
   ]
  },
  {
   "cell_type": "code",
   "execution_count": 324,
   "metadata": {},
   "outputs": [
    {
     "name": "stderr",
     "output_type": "stream",
     "text": [
      "[nltk_data] Downloading package stopwords to\n",
      "[nltk_data]     /home/constantine/nltk_data...\n",
      "[nltk_data]   Package stopwords is already up-to-date!\n"
     ]
    },
    {
     "data": {
      "text/html": [
       "<div>\n",
       "<style scoped>\n",
       "    .dataframe tbody tr th:only-of-type {\n",
       "        vertical-align: middle;\n",
       "    }\n",
       "\n",
       "    .dataframe tbody tr th {\n",
       "        vertical-align: top;\n",
       "    }\n",
       "\n",
       "    .dataframe thead th {\n",
       "        text-align: right;\n",
       "    }\n",
       "</style>\n",
       "<table border=\"1\" class=\"dataframe\">\n",
       "  <thead>\n",
       "    <tr style=\"text-align: right;\">\n",
       "      <th></th>\n",
       "      <th>text</th>\n",
       "      <th>label</th>\n",
       "      <th>tokens</th>\n",
       "    </tr>\n",
       "  </thead>\n",
       "  <tbody>\n",
       "    <tr>\n",
       "      <th>0</th>\n",
       "      <td>i always wrote this series off as being a comp...</td>\n",
       "      <td>0</td>\n",
       "      <td>[always, write, series, complete, stink, f, ji...</td>\n",
       "    </tr>\n",
       "    <tr>\n",
       "      <th>1</th>\n",
       "      <td>1st watched datevalue   3 out of 10 dir steve ...</td>\n",
       "      <td>0</td>\n",
       "      <td>[1st, watch, datevalue, dir, steve, purcell, t...</td>\n",
       "    </tr>\n",
       "    <tr>\n",
       "      <th>2</th>\n",
       "      <td>this movie was so poorly written and directed ...</td>\n",
       "      <td>0</td>\n",
       "      <td>[movie, poorly, write, direct, fall, asleep, m...</td>\n",
       "    </tr>\n",
       "    <tr>\n",
       "      <th>3</th>\n",
       "      <td>the most interesting thing about miryang  secr...</td>\n",
       "      <td>1</td>\n",
       "      <td>[interesting, thing, miryang, secret, sunshine...</td>\n",
       "    </tr>\n",
       "    <tr>\n",
       "      <th>4</th>\n",
       "      <td>when i first read about  berlin am meer  i did...</td>\n",
       "      <td>0</td>\n",
       "      <td>[first, read, berlin, meer, expect, much, thin...</td>\n",
       "    </tr>\n",
       "    <tr>\n",
       "      <th>5</th>\n",
       "      <td>i saw this film on september 1st  datevalue in...</td>\n",
       "      <td>1</td>\n",
       "      <td>[see, film, september, 1st, datevalue, indiana...</td>\n",
       "    </tr>\n",
       "    <tr>\n",
       "      <th>6</th>\n",
       "      <td>i saw a screening of this movie last night  i ...</td>\n",
       "      <td>0</td>\n",
       "      <td>[see, screening, movie, last, night, high, exp...</td>\n",
       "    </tr>\n",
       "    <tr>\n",
       "      <th>7</th>\n",
       "      <td>william hurt may not be an american matinee id...</td>\n",
       "      <td>1</td>\n",
       "      <td>[william, hurt, may, american, matinee, idol, ...</td>\n",
       "    </tr>\n",
       "    <tr>\n",
       "      <th>8</th>\n",
       "      <td>it is a piece of crap  not funny at all  durin...</td>\n",
       "      <td>0</td>\n",
       "      <td>[piece, crap, funny, whole, movie, nothing, ev...</td>\n",
       "    </tr>\n",
       "    <tr>\n",
       "      <th>9</th>\n",
       "      <td>i'm bout it datevalue developed   published by...</td>\n",
       "      <td>0</td>\n",
       "      <td>[bout, datevalue, develop, publish, limit, fil...</td>\n",
       "    </tr>\n",
       "  </tbody>\n",
       "</table>\n",
       "</div>"
      ],
      "text/plain": [
       "                                                text  label  \\\n",
       "0  i always wrote this series off as being a comp...      0   \n",
       "1  1st watched datevalue   3 out of 10 dir steve ...      0   \n",
       "2  this movie was so poorly written and directed ...      0   \n",
       "3  the most interesting thing about miryang  secr...      1   \n",
       "4  when i first read about  berlin am meer  i did...      0   \n",
       "5  i saw this film on september 1st  datevalue in...      1   \n",
       "6  i saw a screening of this movie last night  i ...      0   \n",
       "7  william hurt may not be an american matinee id...      1   \n",
       "8  it is a piece of crap  not funny at all  durin...      0   \n",
       "9  i'm bout it datevalue developed   published by...      0   \n",
       "\n",
       "                                              tokens  \n",
       "0  [always, write, series, complete, stink, f, ji...  \n",
       "1  [1st, watch, datevalue, dir, steve, purcell, t...  \n",
       "2  [movie, poorly, write, direct, fall, asleep, m...  \n",
       "3  [interesting, thing, miryang, secret, sunshine...  \n",
       "4  [first, read, berlin, meer, expect, much, thin...  \n",
       "5  [see, film, september, 1st, datevalue, indiana...  \n",
       "6  [see, screening, movie, last, night, high, exp...  \n",
       "7  [william, hurt, may, american, matinee, idol, ...  \n",
       "8  [piece, crap, funny, whole, movie, nothing, ev...  \n",
       "9  [bout, datevalue, develop, publish, limit, fil...  "
      ]
     },
     "execution_count": 324,
     "metadata": {},
     "output_type": "execute_result"
    }
   ],
   "source": [
    "import nltk\n",
    "import spacy\n",
    "from nltk.corpus import stopwords\n",
    "\n",
    "nltk.download('stopwords')\n",
    "\n",
    "nlp = spacy.load(\"en_core_web_sm\", disable=['parser', 'ner'])\n",
    "\n",
    "def get_clean_tokens(text):\n",
    "    doc = nlp(text)\n",
    "    restricted_tokens = stopwords.words(\"english\") + [\"\\'\", \"\\'s\", \"`\", \"`s\"]\n",
    "    lemmatized = [token.lemma_.lower() for token in doc if not token.lemma_.isspace()]\n",
    "    return [token for token in lemmatized if\n",
    "        token not in restricted_tokens and\n",
    "        not token.isnumeric()\n",
    "    ]\n",
    "\n",
    "clean_df[\"tokens\"] = clean_df[text_field].apply(get_clean_tokens)\n",
    "clean_df.head(10)\n",
    "\n"
   ]
  },
  {
   "cell_type": "code",
   "execution_count": 186,
   "metadata": {},
   "outputs": [
    {
     "name": "stdout",
     "output_type": "stream",
     "text": [
      "595250 words total, with a vocabulary size of 31504\n",
      "Max sentence length is 1137\n"
     ]
    }
   ],
   "source": [
    "all_words = [word for tokens in clean_df[\"tokens\"] for word in tokens]\n",
    "sentence_lengths = [len(tokens) for tokens in clean_df[\"tokens\"]]\n",
    "vocab = sorted(list(set(all_words)))\n",
    "\n",
    "print(\"%s words total, with a vocabulary size of %s\" % (len(all_words), len(vocab)))\n",
    "print(\"Max sentence length is %s\" % max(sentence_lengths))\n",
    "\n",
    "sentence_lengths_1 = [len(tokens) for tokens in clean_df[clean_df[label_field]==1][\"tokens\"]]\n",
    "sentence_lengths_0 = [len(tokens) for tokens in clean_df[clean_df[label_field]==0][\"tokens\"]]"
   ]
  },
  {
   "cell_type": "code",
   "execution_count": 187,
   "metadata": {},
   "outputs": [
    {
     "data": {
      "image/png": "[encoded data removed]",
      "text/plain": [
       "<Figure size 900x300 with 3 Axes>"
      ]
     },
     "metadata": {},
     "output_type": "display_data"
    },
    {
     "name": "stdout",
     "output_type": "stream",
     "text": [
      "count    5000.00000\n",
      "mean      119.05000\n",
      "std        91.19323\n",
      "min         7.00000\n",
      "25%        64.00000\n",
      "50%        88.00000\n",
      "75%       144.00000\n",
      "max      1137.00000\n",
      "dtype: float64\n",
      "count    2505.000000\n",
      "mean      118.363673\n",
      "std        93.767517\n",
      "min         7.000000\n",
      "25%        63.000000\n",
      "50%        86.000000\n",
      "75%       142.000000\n",
      "max      1137.000000\n",
      "dtype: float64\n",
      "count    2495.000000\n",
      "mean      119.739078\n",
      "std        88.546825\n",
      "min         8.000000\n",
      "25%        65.000000\n",
      "50%        90.000000\n",
      "75%       145.000000\n",
      "max       567.000000\n",
      "dtype: float64\n"
     ]
    }
   ],
   "source": [
    "import matplotlib.pyplot as plt\n",
    "\n",
    "fig, [axs_all, axs_1, axs_0] = plt.subplots(ncols=3, figsize=(9, 3))\n",
    "\n",
    "\n",
    "axs_all.set_title(\"all\")\n",
    "axs_all.set_xlabel('Sentence length')\n",
    "axs_all.set_ylabel('Number of sentences')\n",
    "axs_all.hist(sentence_lengths, 50, edgecolor=\"black\")\n",
    "\n",
    "axs_1.set_title(\"positive\")\n",
    "axs_1.set_xlabel('Sentence length')\n",
    "axs_1.set_ylabel('Number of sentences')\n",
    "axs_1.hist(sentence_lengths_1, 50, edgecolor=\"black\")\n",
    "\n",
    "axs_0.set_title(\"negative\")\n",
    "axs_0.set_xlabel('Sentence length')\n",
    "axs_0.set_ylabel('Number of sentences')\n",
    "axs_0.hist(sentence_lengths_0, 50, edgecolor=\"black\")\n",
    "fig.tight_layout()\n",
    "\n",
    "plt.show()\n",
    "print(pd.Series(sentence_lengths).describe())\n",
    "print(pd.Series(sentence_lengths_1).describe())\n",
    "print(pd.Series(sentence_lengths_0).describe())"
   ]
  },
  {
   "cell_type": "code",
   "execution_count": 325,
   "metadata": {},
   "outputs": [],
   "source": [
    "from sklearn.model_selection import train_test_split\n",
    "\n",
    "df_prepared = clean_df.copy()\n",
    "df_prepared[\"label\"] = df_prepared[label_field].apply(lambda label: f\"__label__{str(label)}\")\n",
    "df_prepared[\"text\"] = df_prepared[\"tokens\"].apply(lambda tokens: \" \".join(tokens))\n",
    "df_prepared = df_prepared[[\"label\", \"text\"]]\n",
    "\n",
    "list_corpus = df_prepared[\"text\"]\n",
    "list_labels = df_prepared[\"label\"]\n",
    "\n",
    "X_train, X_test, Y_train, Y_test = train_test_split(list_corpus, list_labels, test_size=0.2, random_state=40)\n",
    "train_data = np.array([Y_train, X_train]).T\n",
    "test_data = np.array([Y_test, X_test]).T\n",
    "\n",
    "train_file = f\"{data_frame_name.split('.')[0]}_clean.train\"\n",
    "test_file = f\"{data_frame_name.split('.')[0]}_clean.test\"\n",
    "\n",
    "np.savetxt(train_file, train_data, delimiter=\" \", fmt=\"%s\")\n",
    "np.savetxt(test_file, test_data, delimiter=\" \", fmt=\"%s\")"
   ]
  },
  {
   "cell_type": "code",
   "execution_count": 326,
   "metadata": {},
   "outputs": [],
   "source": [
    "import fasttext\n",
    "import numpy\n",
    "\n",
    "def get_fasttext_confusion_matrix(model: fasttext.FastText._FastText, test_data):\n",
    "    predict = np.vectorize(lambda x: model.predict(x, k=1)[0][0])\n",
    "    \n",
    "    Y_test = test_data[:,0]\n",
    "    Y_pred = predict(test_data[:,1])\n",
    "\n",
    "    pos = \"__label__1\"\n",
    "    neg = \"__label__0\"\n",
    "\n",
    "    Y_test_pred_pos = Y_test[Y_pred==pos]\n",
    "    Y_test_pred_neg = Y_test[Y_pred==neg]\n",
    "\n",
    "    TP = (Y_test_pred_pos==pos).sum()\n",
    "    FN = (Y_test_pred_neg==pos).sum()\n",
    "    FP = (Y_test_pred_pos==neg).sum()\n",
    "    TN = (Y_test_pred_neg==neg).sum()\n",
    "\n",
    "    return pd.DataFrame(\n",
    "        data=[[TP, FN], [FP, TN]],\n",
    "        columns=[\"pred_pos\", \"pred_fair\"],\n",
    "        index=[\"true_fraud\", \"true_fair\"]\n",
    "    )\n",
    "\n",
    "def calc_stats(confussion_matrix):\n",
    "    TP = confussion_matrix.iloc[0,0]\n",
    "    FN = confussion_matrix.iloc[0,1]\n",
    "    FP = confussion_matrix.iloc[1,0]\n",
    "    TN = confussion_matrix.iloc[1,1]\n",
    "\n",
    "    PR = TP/(TP+FP)\n",
    "    RE = TP/(TP+FN)\n",
    "    SP = FP/(FP+TN)\n",
    "    AC = (TP+TN)/(TP+FP+FN+TN)\n",
    "\n",
    "    return pd.DataFrame(data=[PR, RE, SP, AC], index=[\"Precission\", \"Recall\", \"Specificity\", \"Accuracy\"])"
   ]
  },
  {
   "cell_type": "code",
   "execution_count": 327,
   "metadata": {},
   "outputs": [
    {
     "name": "stderr",
     "output_type": "stream",
     "text": [
      "Read 0M words\n",
      "Number of words:  28500\n",
      "Number of labels: 2\n",
      "Progress: 100.0% words/sec/thread: 2236683 lr:  0.000000 avg.loss:  0.054611 ETA:   0h 0m 0s\n"
     ]
    },
    {
     "data": {
      "text/plain": [
       "(1000, 0.819, 0.819)"
      ]
     },
     "execution_count": 327,
     "metadata": {},
     "output_type": "execute_result"
    }
   ],
   "source": [
    "import fasttext\n",
    "\n",
    "model = fasttext.train_supervised(input=train_file, epoch=50, lr=0.2, loss=\"softmax\", wordNgrams=1, minCount=1, thread=12)\n",
    "model.test(test_file)\n"
   ]
  },
  {
   "cell_type": "code",
   "execution_count": 191,
   "metadata": {},
   "outputs": [
    {
     "name": "stdout",
     "output_type": "stream",
     "text": [
      "            pred_pos  pred_fair\n",
      "true_fraud       416         80\n",
      "true_fair         98        406\n"
     ]
    },
    {
     "data": {
      "text/html": [
       "<div>\n",
       "<style scoped>\n",
       "    .dataframe tbody tr th:only-of-type {\n",
       "        vertical-align: middle;\n",
       "    }\n",
       "\n",
       "    .dataframe tbody tr th {\n",
       "        vertical-align: top;\n",
       "    }\n",
       "\n",
       "    .dataframe thead th {\n",
       "        text-align: right;\n",
       "    }\n",
       "</style>\n",
       "<table border=\"1\" class=\"dataframe\">\n",
       "  <thead>\n",
       "    <tr style=\"text-align: right;\">\n",
       "      <th></th>\n",
       "      <th>0</th>\n",
       "    </tr>\n",
       "  </thead>\n",
       "  <tbody>\n",
       "    <tr>\n",
       "      <th>Precission</th>\n",
       "      <td>0.809339</td>\n",
       "    </tr>\n",
       "    <tr>\n",
       "      <th>Recall</th>\n",
       "      <td>0.838710</td>\n",
       "    </tr>\n",
       "    <tr>\n",
       "      <th>Specificity</th>\n",
       "      <td>0.194444</td>\n",
       "    </tr>\n",
       "    <tr>\n",
       "      <th>Accuracy</th>\n",
       "      <td>0.822000</td>\n",
       "    </tr>\n",
       "  </tbody>\n",
       "</table>\n",
       "</div>"
      ],
      "text/plain": [
       "                    0\n",
       "Precission   0.809339\n",
       "Recall       0.838710\n",
       "Specificity  0.194444\n",
       "Accuracy     0.822000"
      ]
     },
     "execution_count": 191,
     "metadata": {},
     "output_type": "execute_result"
    }
   ],
   "source": [
    "cm = get_fasttext_confusion_matrix(model, test_data)\n",
    "print(cm)\n",
    "\n",
    "calc_stats(cm)"
   ]
  },
  {
   "cell_type": "code",
   "execution_count": 330,
   "metadata": {},
   "outputs": [
    {
     "name": "stderr",
     "output_type": "stream",
     "text": [
      "Read 0M words\n",
      "Number of words:  28500\n",
      "Number of labels: 2\n",
      "Progress: 100.0% words/sec/thread: 1059325 lr:  0.000000 avg.loss:  0.074926 ETA:   0h 0m 0s\n"
     ]
    },
    {
     "data": {
      "text/plain": [
       "(1000, 0.855, 0.855)"
      ]
     },
     "execution_count": 330,
     "metadata": {},
     "output_type": "execute_result"
    }
   ],
   "source": [
    "import fasttext\n",
    "\n",
    "model = fasttext.train_supervised(input=train_file, epoch=50, lr=0.2, loss=\"softmax\", wordNgrams=2, minCount=1, thread=12)\n",
    "model.test(test_file)\n"
   ]
  },
  {
   "cell_type": "code",
   "execution_count": 332,
   "metadata": {},
   "outputs": [
    {
     "name": "stdout",
     "output_type": "stream",
     "text": [
      "            pred_pos  pred_fair\n",
      "true_fraud       427         69\n",
      "true_fair         76        428\n"
     ]
    }
   ],
   "source": [
    "cm = get_fasttext_confusion_matrix(model, test_data)\n",
    "print(cm)\n",
    "\n",
    "calc_stats(cm)\n",
    "model.save_model(\"fasttext_model.bin\")"
   ]
  },
  {
   "cell_type": "code",
   "execution_count": 194,
   "metadata": {},
   "outputs": [
    {
     "name": "stderr",
     "output_type": "stream",
     "text": [
      "Read 0M words\n",
      "Number of words:  28500\n",
      "Number of labels: 2\n",
      "Progress: 100.0% words/sec/thread:  575076 lr:  0.000000 avg.loss:  0.099788 ETA:   0h 0m 0s\n"
     ]
    },
    {
     "data": {
      "text/plain": [
       "(1000, 0.849, 0.849)"
      ]
     },
     "execution_count": 194,
     "metadata": {},
     "output_type": "execute_result"
    }
   ],
   "source": [
    "import fasttext\n",
    "\n",
    "model = fasttext.train_supervised(input=train_file, epoch=50, lr=0.2, loss=\"softmax\", wordNgrams=3, minCount=1, thread=12)\n",
    "model.test(test_file)\n"
   ]
  },
  {
   "cell_type": "code",
   "execution_count": 195,
   "metadata": {},
   "outputs": [
    {
     "name": "stdout",
     "output_type": "stream",
     "text": [
      "            pred_pos  pred_fair\n",
      "true_fraud       426         70\n",
      "true_fair         81        423\n"
     ]
    },
    {
     "data": {
      "text/html": [
       "<div>\n",
       "<style scoped>\n",
       "    .dataframe tbody tr th:only-of-type {\n",
       "        vertical-align: middle;\n",
       "    }\n",
       "\n",
       "    .dataframe tbody tr th {\n",
       "        vertical-align: top;\n",
       "    }\n",
       "\n",
       "    .dataframe thead th {\n",
       "        text-align: right;\n",
       "    }\n",
       "</style>\n",
       "<table border=\"1\" class=\"dataframe\">\n",
       "  <thead>\n",
       "    <tr style=\"text-align: right;\">\n",
       "      <th></th>\n",
       "      <th>0</th>\n",
       "    </tr>\n",
       "  </thead>\n",
       "  <tbody>\n",
       "    <tr>\n",
       "      <th>Precission</th>\n",
       "      <td>0.840237</td>\n",
       "    </tr>\n",
       "    <tr>\n",
       "      <th>Recall</th>\n",
       "      <td>0.858871</td>\n",
       "    </tr>\n",
       "    <tr>\n",
       "      <th>Specificity</th>\n",
       "      <td>0.160714</td>\n",
       "    </tr>\n",
       "    <tr>\n",
       "      <th>Accuracy</th>\n",
       "      <td>0.849000</td>\n",
       "    </tr>\n",
       "  </tbody>\n",
       "</table>\n",
       "</div>"
      ],
      "text/plain": [
       "                    0\n",
       "Precission   0.840237\n",
       "Recall       0.858871\n",
       "Specificity  0.160714\n",
       "Accuracy     0.849000"
      ]
     },
     "execution_count": 195,
     "metadata": {},
     "output_type": "execute_result"
    }
   ],
   "source": [
    "cm = get_fasttext_confusion_matrix(model, test_data)\n",
    "print(cm)\n",
    "\n",
    "calc_stats(cm)"
   ]
  },
  {
   "cell_type": "code",
   "execution_count": 196,
   "metadata": {},
   "outputs": [
    {
     "name": "stderr",
     "output_type": "stream",
     "text": [
      "Read 0M words\n",
      "Number of words:  28500\n",
      "Number of labels: 2\n",
      "Progress: 100.0% words/sec/thread:  410812 lr:  0.000000 avg.loss:  0.126692 ETA:   0h 0m 0s\n"
     ]
    },
    {
     "data": {
      "text/plain": [
       "(1000, 0.839, 0.839)"
      ]
     },
     "execution_count": 196,
     "metadata": {},
     "output_type": "execute_result"
    }
   ],
   "source": [
    "import fasttext\n",
    "\n",
    "model = fasttext.train_supervised(input=train_file, epoch=50, lr=0.2, loss=\"softmax\", wordNgrams=4, minCount=1, thread=12)\n",
    "model.test(test_file)\n"
   ]
  },
  {
   "cell_type": "code",
   "execution_count": 197,
   "metadata": {},
   "outputs": [
    {
     "name": "stdout",
     "output_type": "stream",
     "text": [
      "            pred_pos  pred_fair\n",
      "true_fraud       426         70\n",
      "true_fair         91        413\n"
     ]
    },
    {
     "data": {
      "text/html": [
       "<div>\n",
       "<style scoped>\n",
       "    .dataframe tbody tr th:only-of-type {\n",
       "        vertical-align: middle;\n",
       "    }\n",
       "\n",
       "    .dataframe tbody tr th {\n",
       "        vertical-align: top;\n",
       "    }\n",
       "\n",
       "    .dataframe thead th {\n",
       "        text-align: right;\n",
       "    }\n",
       "</style>\n",
       "<table border=\"1\" class=\"dataframe\">\n",
       "  <thead>\n",
       "    <tr style=\"text-align: right;\">\n",
       "      <th></th>\n",
       "      <th>0</th>\n",
       "    </tr>\n",
       "  </thead>\n",
       "  <tbody>\n",
       "    <tr>\n",
       "      <th>Precission</th>\n",
       "      <td>0.823985</td>\n",
       "    </tr>\n",
       "    <tr>\n",
       "      <th>Recall</th>\n",
       "      <td>0.858871</td>\n",
       "    </tr>\n",
       "    <tr>\n",
       "      <th>Specificity</th>\n",
       "      <td>0.180556</td>\n",
       "    </tr>\n",
       "    <tr>\n",
       "      <th>Accuracy</th>\n",
       "      <td>0.839000</td>\n",
       "    </tr>\n",
       "  </tbody>\n",
       "</table>\n",
       "</div>"
      ],
      "text/plain": [
       "                    0\n",
       "Precission   0.823985\n",
       "Recall       0.858871\n",
       "Specificity  0.180556\n",
       "Accuracy     0.839000"
      ]
     },
     "execution_count": 197,
     "metadata": {},
     "output_type": "execute_result"
    }
   ],
   "source": [
    "cm = get_fasttext_confusion_matrix(model, test_data)\n",
    "print(cm)\n",
    "\n",
    "calc_stats(cm)"
   ]
  },
  {
   "cell_type": "code",
   "execution_count": 312,
   "metadata": {},
   "outputs": [
    {
     "name": "stderr",
     "output_type": "stream",
     "text": [
      "Read 0M words\n",
      "Number of words:  28500\n",
      "Number of labels: 2\n",
      "Progress: 100.0% words/sec/thread: 1006354 lr:  0.000000 avg.loss:  0.181525 ETA:   0h 0m 0s\n"
     ]
    }
   ],
   "source": [
    "import fasttext\n",
    "\n",
    "model = fasttext.train_supervised(input=train_file, epoch=50, lr=0.2, loss=\"softmax\", wordNgrams=2, minCount=1, thread=12)\n"
   ]
  },
  {
   "cell_type": "code",
   "execution_count": 322,
   "metadata": {},
   "outputs": [
    {
     "name": "stdout",
     "output_type": "stream",
     "text": [
      "            pred_pos  pred_fair\n",
      "true_fraud       427         69\n",
      "true_fair         80        424\n",
      "                    0\n",
      "Precission   0.842209\n",
      "Recall       0.860887\n",
      "Specificity  0.158730\n",
      "Accuracy     0.851000\n"
     ]
    },
    {
     "data": {
      "image/png": "[encoded data removed]",
      "text/plain": [
       "<Figure size 640x480 with 1 Axes>"
      ]
     },
     "metadata": {},
     "output_type": "display_data"
    }
   ],
   "source": [
    "cm = get_fasttext_confusion_matrix(model, test_data)\n",
    "print(cm)\n",
    "print(calc_stats(cm))\n",
    "\n",
    "data_pred = np.array([model.predict(text, k=2) for text in test_data[:,1]])\n",
    "points = []\n",
    "labels = []\n",
    "\n",
    "for r in data_pred:\n",
    "    labels.append(r[0][0])\n",
    "    if r[0][0] == \"__label__0\":\n",
    "        points.append((float(r[1][0]), float(r[1][1])))\n",
    "    else:\n",
    "        points.append((float(r[1][1]), float(r[1][0])))\n",
    "\n",
    "points = np.array(points)\n",
    "labels = np.array(labels)\n",
    "points_pos = points[labels==\"__label__1\"]\n",
    "points_neg = points[labels==\"__label__0\"]\n",
    "points_wrong = points[labels!=test_data[:,0]]\n",
    "\n",
    "plt.xlabel(\"negative\")\n",
    "plt.ylabel(\"positive\")\n",
    "plt.xlim((-0.1, 1.1))\n",
    "plt.ylim((-0.1, 1.1))\n",
    "plt.scatter(points_neg[:,0], points_neg[:,1], label=\"negative\")\n",
    "plt.scatter(points_pos[:,0], points_pos[:,1], label=\"positive\")\n",
    "plt.scatter(points_wrong[:,0], points_wrong[:,1], c='none', edgecolors=\"black\", label=\"wrong\")\n",
    "plt.plot(np.linspace(-.5, 1.5, 3), np.linspace(-.5, 1.5, 3), linewidth=0.4, c=\"black\", label=\"classification pane\")\n",
    "plt.legend()\n",
    "plt.show()"
   ]
  }
 ],
 "metadata": {
  "kernelspec": {
   "display_name": "Python 3",
   "language": "python",
   "name": "python3"
  },
  "language_info": {
   "codemirror_mode": {
    "name": "ipython",
    "version": 3
   },
   "file_extension": ".py",
   "mimetype": "text/x-python",
   "name": "python",
   "nbconvert_exporter": "python",
   "pygments_lexer": "ipython3",
   "version": "3.8.10"
  },
  "orig_nbformat": 4,
  "vscode": {
   "interpreter": {
    "hash": "31f2aee4e71d21fbe5cf8b01ff0e069b9275f58929596ceb00d14d90e3e16cd6"
   }
  }
 },
 "nbformat": 4,
 "nbformat_minor": 2
}
